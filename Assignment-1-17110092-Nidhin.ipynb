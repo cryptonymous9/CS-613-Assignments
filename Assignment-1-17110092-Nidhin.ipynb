{
 "cells": [
  {
   "cell_type": "code",
   "execution_count": 1,
   "metadata": {},
   "outputs": [],
   "source": [
    "import csv\n",
    "import math\n",
    "import nltk\n",
    "import numpy as np\n",
    "from nltk.tokenize import TweetTokenizer\n",
    "from sklearn.linear_model import LinearRegression"
   ]
  },
  {
   "cell_type": "markdown",
   "metadata": {},
   "source": [
    "## Computing Tokens, Types, and TTR"
   ]
  },
  {
   "cell_type": "markdown",
   "metadata": {},
   "source": [
    "Types: Number of distinct words in corpus.\n",
    "Tokens: Number of running words in corpus.\n",
    "\n",
    "TTR(Type Token Ratio): $\\frac{Types}{Tokens}$"
   ]
  },
  {
   "cell_type": "code",
   "execution_count": 2,
   "metadata": {},
   "outputs": [],
   "source": [
    "# Importing Data\n",
    "text =''\n",
    "with open('tweets-dataset.csv','r',encoding='utf-8') as fp:\n",
    "    data = csv.reader(fp)\n",
    "    for row in data:\n",
    "        text = text+ ' '+ str(row)"
   ]
  },
  {
   "cell_type": "code",
   "execution_count": 3,
   "metadata": {},
   "outputs": [
    {
     "name": "stdout",
     "output_type": "stream",
     "text": [
      "\n",
      "Number of Tokens:  283294\n",
      "\n",
      "Number of Types:  30467\n",
      "\n",
      "TTR : 0.10754551808368691\n"
     ]
    }
   ],
   "source": [
    "# Tokenizing the tweets\n",
    "tt=nltk.TweetTokenizer()\n",
    "tokens = tt.tokenize(text)\n",
    "\n",
    "# Removing tokens containing non-alphabetical characters such as #, @ etc.\n",
    "# Also, removing tokens with http in them -> they are sliced or incomplete version of URLs.\n",
    "def process_tokens(tokens):    \n",
    "    new_tokens=[]\n",
    "    for each_token in tokens:\n",
    "        if each_token.isalpha() and 'http' not in each_token:\n",
    "            new_tokens.append(each_token.lower())\n",
    "    return new_tokens\n",
    "\n",
    "tokens = process_tokens(tokens)\n",
    "types = set(tokens)\n",
    "\n",
    "print('\\nNumber of Tokens: ', len(tokens))\n",
    "print('\\nNumber of Types: ', len(types))\n",
    "print('\\nTTR : '+str(len(types)/len(tokens)))"
   ]
  },
  {
   "cell_type": "markdown",
   "metadata": {},
   "source": [
    "## Zipf's Law of Length and Frequency"
   ]
  },
  {
   "cell_type": "markdown",
   "metadata": {},
   "source": [
    "According to the Zipf's law of corelation the lengths and word frequency, it obeys:\n",
    "\\[l \\propto \\frac{1}{f}\\]"
   ]
  },
  {
   "cell_type": "code",
   "execution_count": 4,
   "metadata": {},
   "outputs": [
    {
     "data": {
      "image/png": "[encoded data removed]",
      "text/plain": [
       "<Figure size 432x288 with 1 Axes>"
      ]
     },
     "metadata": {
      "needs_background": "light"
     },
     "output_type": "display_data"
    }
   ],
   "source": [
    "import matplotlib.pyplot as plt\n",
    "%matplotlib inline  \n",
    "\n",
    "\n",
    "wordlength_freq=dict()\n",
    "for each_token in tokens:\n",
    "    if len(each_token) in wordlength_freq:\n",
    "        wordlength_freq[len(each_token)]+=1\n",
    "    else:\n",
    "        wordlength_freq[len(each_token)]=1\n",
    "        \n",
    "X,Y = [],[]\n",
    "wordlength_freq = dict(sorted(wordlength_freq.items()))\n",
    "# Not taking into account words with length 1,2,3\n",
    "# These values creates noise in the graph\n",
    "wordlength_freq.pop(1)\n",
    "wordlength_freq.pop(2)\n",
    "wordlength_freq.pop(3)\n",
    "\n",
    "for key,val in wordlength_freq.items():\n",
    "    X.append(key)\n",
    "    Y.append(val)\n",
    "\n",
    "#Plot\n",
    "plt.plot(X,Y)\n",
    "plt.title(\"Zipf's law of length\")\n",
    "plt.xlabel('length')\n",
    "plt.ylabel('Frequency')\n",
    "plt.show()    "
   ]
  },
  {
   "cell_type": "markdown",
   "metadata": {},
   "source": [
    "We observe that the graph is very similar to that of $x = \\frac{c}{y}$. Hence, validating Zipf's law. "
   ]
  },
  {
   "cell_type": "markdown",
   "metadata": {},
   "source": [
    "## Zipf's Law of Meanings"
   ]
  },
  {
   "cell_type": "markdown",
   "metadata": {},
   "source": [
    "### Solution\n",
    "\n",
    "According to the Zipf's law of corelation between number of meanings and word frequency, it obeys:\n",
    "\\[m \\propto \\sqrt{f}\\]\n",
    "\n",
    "Now, we saw above that corelation between word length and frequence i.e, \n",
    "\\[l \\propto \\frac{1}{f} \\]\n",
    "\n",
    "Using $eq(1)$ and $eq(2)$, we can derive the relation that,\n",
    "\\[m \\propto \\frac{1}{\\sqrt{l}}\\]\n",
    "i.e \\[m = \\frac{c}{\\sqrt{l}}\\] where $c$ is a constant.\n",
    "\n",
    "Hence, the graph between $m$ and $\\frac{1}{\\sqrt{l}}$ must follow a straight line passing via origin."
   ]
  },
  {
   "cell_type": "code",
   "execution_count": 5,
   "metadata": {},
   "outputs": [],
   "source": [
    "import nltk \n",
    "from nltk.corpus import wordnet \n",
    "\n",
    "def find_syn(word):\n",
    "    synonyms = 0\n",
    "    for syn in wordnet.synsets(word): \n",
    "        for l in syn.lemmas(): \n",
    "            synonyms+=1\n",
    "    return synonyms"
   ]
  },
  {
   "cell_type": "code",
   "execution_count": 6,
   "metadata": {},
   "outputs": [
    {
     "data": {
      "image/png": "[encoded data removed]",
      "text/plain": [
       "<Figure size 432x288 with 1 Axes>"
      ]
     },
     "metadata": {
      "needs_background": "light"
     },
     "output_type": "display_data"
    }
   ],
   "source": [
    "fq_words = []\n",
    "n_meanings=[]\n",
    "words = ['outsourcing', 'intolerance' ,'theatrical', 'entertain', 'designer','society','happen', 'true',\n",
    "         'man', 'do']\n",
    "\n",
    "for i in words:\n",
    "    fq_words.append(1/ math.sqrt(len(i)))\n",
    "    n_meanings.append(find_syn(i))\n",
    "\n",
    "\n",
    "X,Y = n_meanings, fq_words\n",
    "\n",
    "plt.plot(Y,X)\n",
    "plt.title(\"Zipf's Law for meanings Meanings\")\n",
    "plt.xlabel('1/sqrt(L)')\n",
    "plt.ylabel('Number of Meanings')\n",
    "plt.show()"
   ]
  },
  {
   "cell_type": "markdown",
   "metadata": {},
   "source": [
    "We can see from the graph that is ploted above that there is aproximately a linear relationship between these two variables. Hence, validating the Zipf's Law. "
   ]
  },
  {
   "cell_type": "markdown",
   "metadata": {},
   "source": [
    "## Heap's Law"
   ]
  },
  {
   "cell_type": "markdown",
   "metadata": {},
   "source": [
    "According to Heap's Law, following relation exists between size of vocabulary and number of tokens.\n",
    "\\[|V| = K N ^{\\beta} \\]\n",
    "in which, $|V|$ is size of vocabulary and $N$ is the number of tokens.\n",
    "Whereas, $K \\approx 10 - 100$ and $\\beta \\approx 0.4 - 0.6$\n",
    "         \n"
   ]
  },
  {
   "cell_type": "code",
   "execution_count": 7,
   "metadata": {},
   "outputs": [
    {
     "data": {
      "image/png": "[encoded data removed]",
      "text/plain": [
       "<Figure size 432x288 with 1 Axes>"
      ]
     },
     "metadata": {
      "needs_background": "light"
     },
     "output_type": "display_data"
    }
   ],
   "source": [
    "visited=[]\n",
    "n,v = 0,0\n",
    "\n",
    "#V is the list of Vocabulary length and N is the list of corpus size \n",
    "V,N = [],[]\n",
    "for each_token in tokens:\n",
    "    n+=1\n",
    "    N.append(n)\n",
    "    if each_token not in visited:\n",
    "        v+=1\n",
    "        visited.append(each_token)\n",
    "    V.append(v)\n",
    "\n",
    "#Plot between N and |V|\n",
    "plt.plot(N,V)\n",
    "plt.title(\"Heap's Law\")\n",
    "plt.xlabel('Size of Corpus $N$')\n",
    "plt.ylabel('Vocabulary Size $|V|$')\n",
    "plt.show()"
   ]
  },
  {
   "cell_type": "code",
   "execution_count": 8,
   "metadata": {},
   "outputs": [
    {
     "name": "stdout",
     "output_type": "stream",
     "text": [
      "Predicted value of beta:   0.6507823134769163\n",
      "Predicted value of K:   9.02947363269811\n",
      "Score with these predicted values:  0.9950091314824819\n"
     ]
    }
   ],
   "source": [
    "# Linear Regression with log values\n",
    "log_N,log_V =[],[]\n",
    "\n",
    "for i in range(len(N)):\n",
    "    log_N.append(math.log(N[i]))\n",
    "    log_V.append(math.log(V[i]))\n",
    "log_N, log_V = np.asarray(log_N), np.asarray(log_V)\n",
    "reg=LinearRegression().fit(log_N.reshape(-1,1),log_V)\n",
    "\n",
    "score = reg.score(log_N.reshape(-1,1), log_V)\n",
    "\n",
    "beta = reg.coef_[0]\n",
    "K_ = math.exp(reg.intercept_)\n",
    "\n",
    "print(\"Predicted value of beta:  \", beta)\n",
    "print(\"Predicted value of K:  \",K_)\n",
    "print(\"Score with these predicted values: \",score)"
   ]
  },
  {
   "cell_type": "markdown",
   "metadata": {},
   "source": [
    "### Explanation\n",
    "\n",
    "From Heap's Law, We know that there is not a linear relationship between $|V|$ and $N$. It is an exponential one. \n",
    "\n",
    "However, if we take $log$ on both sides of the $eq(5)$ then,\n",
    "\\[ \\log{|V|} = \\log{K} + \\beta\\log{N} \\]\n",
    "\n",
    "We observe that now, a linear relationship exists between $\\log{|V|}$ and $\\log{N}$. Hence, in order to find out the values of remaining variables we can apply Linear Regression to the values of $\\log{|V|}$ and $\\log{N}$.\n",
    "\n",
    "Since, the coefficient and the intercept obtained are the values of $\\beta$ and $\\log{K}$.\n",
    "Hence, $\\beta$ equals the coefficient and $K$ equals $e^{intercept}$"
   ]
  },
  {
   "cell_type": "code",
   "execution_count": 10,
   "metadata": {},
   "outputs": [
    {
     "data": {
      "image/png": "[encoded data removed]",
      "text/plain": [
       "<Figure size 432x288 with 1 Axes>"
      ]
     },
     "metadata": {
      "needs_background": "light"
     },
     "output_type": "display_data"
    }
   ],
   "source": [
    "#Producin vocabulary using the obtained values of K and beta\n",
    "V_produced = [K_*((size)**beta) for size in N]\n",
    "\n",
    "\n",
    "#Plot\n",
    "plt.plot(N,V, label='Original Plot')\n",
    "plt.plot(N,V_produced, label='Plot with genetated $K$, $\\\\beta$')\n",
    "plt.title(\"Heap's Law\")\n",
    "plt.xlabel('Size of Corpus $N$')\n",
    "plt.ylabel('Vocabulary Size $|V|$')\n",
    "plt.legend()\n",
    "plt.show()"
   ]
  }
 ],
 "metadata": {
  "kernelspec": {
   "display_name": "Python 3",
   "language": "python",
   "name": "python3"
  },
  "language_info": {
   "codemirror_mode": {
    "name": "ipython",
    "version": 3
   },
   "file_extension": ".py",
   "mimetype": "text/x-python",
   "name": "python",
   "nbconvert_exporter": "python",
   "pygments_lexer": "ipython3",
   "version": "3.6.7"
  },
  "latex_envs": {
   "LaTeX_envs_menu_present": true,
   "autoclose": false,
   "autocomplete": true,
   "bibliofile": "biblio.bib",
   "cite_by": "apalike",
   "current_citInitial": 1,
   "eqLabelWithNumbers": true,
   "eqNumInitial": 1,
   "hotkeys": {
    "equation": "Ctrl-E",
    "itemize": "Ctrl-I"
   },
   "labels_anchors": false,
   "latex_user_defs": false,
   "report_style_numbering": false,
   "user_envs_cfg": false
  }
 },
 "nbformat": 4,
 "nbformat_minor": 2
}
